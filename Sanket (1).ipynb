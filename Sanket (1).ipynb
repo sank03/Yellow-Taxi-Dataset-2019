{
 "cells": [
  {
   "cell_type": "code",
   "execution_count": 38,
   "id": "387ffef8",
   "metadata": {},
   "outputs": [],
   "source": [
    "import findspark\n",
    "import os \n",
    "import sys \n",
    "os.environ['PYSPARK_PYTHON'] = sys.executable\n",
    "os.environ['PYSPARK_DRIVER_PYTHON'] = sys.executable"
   ]
  },
  {
   "cell_type": "code",
   "execution_count": 2,
   "id": "a116f04f",
   "metadata": {},
   "outputs": [],
   "source": [
    "findspark.init()"
   ]
  },
  {
   "cell_type": "code",
   "execution_count": 3,
   "id": "5d205e7f",
   "metadata": {},
   "outputs": [],
   "source": [
    "import pyspark\n",
    "from pyspark import SparkContext\n",
    "from pyspark.sql import SparkSession\n",
    "from pyspark.sql import DataFrame\n",
    "from pyspark.sql import functions as F\n",
    "from pyspark.sql.types import IntegerType\n",
    "from urllib.request import urlretrieve as retrive\n",
    "from pyspark.sql import SQLContext\n",
    "import requests\n",
    "from functools import reduce\n",
    "from pyspark.sql.functions import *"
   ]
  },
  {
   "cell_type": "code",
   "execution_count": 13,
   "id": "ab9c69af",
   "metadata": {},
   "outputs": [],
   "source": [
    "from pyspark.sql import SparkSession\n",
    "from pyspark import SparkFiles"
   ]
  },
  {
   "cell_type": "code",
   "execution_count": 5,
   "id": "b6228baf",
   "metadata": {},
   "outputs": [],
   "source": [
    "spark = SparkSession.builder.appName(\"myApp\").config(\"spark.mongodb.input.uri\",\"mongodb://localhost:27017/trip.trip?readPreference=primaryPreferred\").config(\"spark.mongodb.output.uri\",\"mongodb://localhost:27017/trip.trip\").config(\"spark.jars.packages\",\"org.mongodb.spark:mongo-spark-connector_2.12:3.0.0\").getOrCreate()"
   ]
  },
  {
   "cell_type": "code",
   "execution_count": 6,
   "id": "f526ae22",
   "metadata": {},
   "outputs": [],
   "source": [
    "url=\"https://raw.githubusercontent.com/sank03/Yellow-Taxi-Dataset-2019/main/taxi_full_dataset.csv\"\n",
    "from pyspark import SparkFiles\n",
    "spark.sparkContext.addFile(url)\n",
    "SparkFiles.get(\"taxi_full_dataset.csv\")\n",
    "df_taxi = spark.read.csv(\"file:///\"+SparkFiles.get(\"taxi_full_dataset.csv\"), header= True).limit(300000)"
   ]
  },
  {
   "cell_type": "code",
   "execution_count": 7,
   "id": "a99bf681",
   "metadata": {},
   "outputs": [
    {
     "data": {
      "text/plain": [
       "300000"
      ]
     },
     "execution_count": 7,
     "metadata": {},
     "output_type": "execute_result"
    }
   ],
   "source": [
    "df_taxi.count()"
   ]
  },
  {
   "cell_type": "code",
   "execution_count": 8,
   "id": "fc8e0688",
   "metadata": {},
   "outputs": [],
   "source": [
    "ml = spark.read.format(\"mongo\").option(\"uri\",\"mongodb://localhost:27017/YellowTaxi.taxi_bi\").load()\n",
    "df_taxi.write.format(\"mongo\").option(\"uri\",\"mongodb://localhost:27017/YellowTaxi.taxi_bi\").save()"
   ]
  },
  {
   "cell_type": "code",
   "execution_count": 9,
   "id": "ae319d62",
   "metadata": {},
   "outputs": [
    {
     "name": "stdout",
     "output_type": "stream",
     "text": [
      "{'No': 1297, 'passenger_count': 0, 'tpep_pickup_datetime': 0, 'tpep_dropoff_datetime': 0, 'VendorID': 0, 'trip_distance': 1297, 'PULocationID6': 1297, 'store_and_fwd_flag': 0, 'DOLocationID': 1297, 'RatecodeID': 0, 'payment_type': 1297, 'fare_amount': 1297, 'tip_amount': 1297, 'tolls_amount': 1297, 'total_amount': 1297, 'date': 1297, 'time': 1297, 'weekday': 1297, 'year': 1297, 'month': 1297, 'day': 1297, 'day_of_week': 1297, 'hour_of_day': 1297, 'trip_duration': 1297, 'tip_percent': 1297, 'calculated_total_amount': 3919, 'TAVG': 1297, 'PUborough': 1297, 'DOborough': 1297, 'PULocationID29': 299735, 'Borough': 299735, 'Zone': 299735, 'service_zone': 299735}\n"
     ]
    }
   ],
   "source": [
    "checkNullValues = {col:df_taxi.filter(df_taxi[col].isNull()).count() for col in df_taxi.columns}\n",
    "print(checkNullValues)"
   ]
  },
  {
   "cell_type": "code",
   "execution_count": 10,
   "id": "bb58b890",
   "metadata": {},
   "outputs": [
    {
     "name": "stdout",
     "output_type": "stream",
     "text": [
      "root\n",
      " |-- No: string (nullable = true)\n",
      " |-- passenger_count: string (nullable = true)\n",
      " |-- tpep_pickup_datetime: string (nullable = true)\n",
      " |-- tpep_dropoff_datetime: string (nullable = true)\n",
      " |-- VendorID: string (nullable = true)\n",
      " |-- trip_distance: string (nullable = true)\n",
      " |-- PULocationID6: string (nullable = true)\n",
      " |-- DOLocationID: string (nullable = true)\n",
      " |-- payment_type: string (nullable = true)\n",
      " |-- fare_amount: string (nullable = true)\n",
      " |-- tip_amount: string (nullable = true)\n",
      " |-- tolls_amount: string (nullable = true)\n",
      " |-- total_amount: string (nullable = true)\n",
      " |-- date: string (nullable = true)\n",
      " |-- time: string (nullable = true)\n",
      " |-- weekday: string (nullable = true)\n",
      " |-- year: string (nullable = true)\n",
      " |-- month: string (nullable = true)\n",
      " |-- day: string (nullable = true)\n",
      " |-- day_of_week: string (nullable = true)\n",
      " |-- hour_of_day: string (nullable = true)\n",
      " |-- trip_duration: string (nullable = true)\n",
      " |-- tip_percent: string (nullable = true)\n",
      " |-- calculated_total_amount: string (nullable = true)\n",
      " |-- TAVG: string (nullable = true)\n",
      " |-- PUborough: string (nullable = true)\n",
      " |-- DOborough: string (nullable = true)\n",
      " |-- PULocationID29: string (nullable = true)\n",
      " |-- Borough: string (nullable = true)\n",
      " |-- Zone: string (nullable = true)\n",
      " |-- service_zone: string (nullable = true)\n",
      "\n"
     ]
    }
   ],
   "source": [
    "df = df_taxi.drop(*('store_and_fwd_flag','RatecodeID'))\n",
    "df.printSchema()"
   ]
  },
  {
   "cell_type": "code",
   "execution_count": 20,
   "id": "46333065",
   "metadata": {},
   "outputs": [],
   "source": [
    "#converted datetime into timestamp\n",
    "df_n = df.withColumn(\"pickup_timestamp\",to_timestamp(col(\"tpep_pickup_datetime\")))\n",
    "df_new = df_n.withColumn(\"dropoff_timestamp\",to_timestamp(col(\"tpep_dropoff_datetime\")))"
   ]
  },
  {
   "cell_type": "code",
   "execution_count": 18,
   "id": "89cfb580",
   "metadata": {},
   "outputs": [
    {
     "data": {
      "text/plain": [
       "DataFrame[No: string, passenger_count: string, tpep_pickup_datetime: string, tpep_dropoff_datetime: string, VendorID: string, trip_distance: string, PULocationID6: string, DOLocationID: string, payment_type: string, fare_amount: string, tip_amount: string, tolls_amount: string, total_amount: string, date: string, time: string, weekday: string, year: string, month: string, day: string, day_of_week: string, hour_of_day: string, trip_duration: string, tip_percent: string, calculated_total_amount: string, TAVG: string, PUborough: string, DOborough: string, PULocationID29: string, Borough: string, Zone: string, service_zone: string, dropoff_timestamp: timestamp]"
      ]
     },
     "execution_count": 18,
     "metadata": {},
     "output_type": "execute_result"
    }
   ],
   "source": [
    "#converted datetime into timestamp\n",
    "df_n = df.withColumn(\"dropoff_timestamp\",to_timestamp(col(\"tpep_dropoff_datetime\")))"
   ]
  },
  {
   "cell_type": "code",
   "execution_count": 23,
   "id": "7f5da7df",
   "metadata": {},
   "outputs": [],
   "source": [
    "#converted datetime into timestamp\n",
    "df_pt = df.withColumn('pickup_timestamp', F.unix_timestamp('tpep_pickup_datetime','dd/MM/yyyy hh:mm:ss a'))\n",
    "df_dt = df_pt.withColumn('dropoff_timestamp', F.unix_timestamp('tpep_dropoff_datetime','dd/MM/yyyy hh:mm:ss a'))"
   ]
  },
  {
   "cell_type": "code",
   "execution_count": 26,
   "id": "06fdb4e0",
   "metadata": {},
   "outputs": [
    {
     "data": {
      "text/plain": [
       "DataFrame[pickup_timestamp: bigint, dropoff_timestamp: bigint]"
      ]
     },
     "execution_count": 26,
     "metadata": {},
     "output_type": "execute_result"
    }
   ],
   "source": [
    "df_dt.select(\"pickup_timestamp\",\"dropoff_timestamp\")"
   ]
  },
  {
   "cell_type": "code",
   "execution_count": 25,
   "id": "e9f86615",
   "metadata": {},
   "outputs": [],
   "source": [
    "#calculate time duration\n",
    "time_dur = df_dt.withColumn('time_duration', F.round((df_dt['dropoff_timestamp']-df_dt['pickup_timestamp'])/60))"
   ]
  },
  {
   "cell_type": "code",
   "execution_count": 27,
   "id": "f91f5933",
   "metadata": {},
   "outputs": [],
   "source": [
    "#typecast date into date datatype\n",
    "df_date=time_dur.withColumn('pickup_date', to_timestamp('pickup_timestamp').cast('date')).withColumn('dropoff_date', to_timestamp('dropoff_timestamp').cast('date'))"
   ]
  },
  {
   "cell_type": "code",
   "execution_count": 30,
   "id": "4c08f67c",
   "metadata": {},
   "outputs": [],
   "source": [
    "#typecast time into date timestamp type\n",
    "df_time=df_date.withColumn('pickup_time', to_timestamp('pickup_timestamp').cast('timestamp')).withColumn('dropoff_time', to_timestamp('dropoff_timestamp').cast('timestamp'))\n"
   ]
  },
  {
   "cell_type": "code",
   "execution_count": 31,
   "id": "31d78735",
   "metadata": {},
   "outputs": [],
   "source": [
    "#seprate date into day,month and year\n",
    "pick_DateSep=df_time.withColumn(\"year\",year(\"pickup_date\")).withColumn(\"month\",month(\"pickup_date\")).withColumn(\"day\",dayofmonth(\"pickup_date\"))\n",
    "drop_DateSep=pick_DateSep.withColumn(\"dropoff_year\",year(\"dropoff_date\")).withColumn(\"dropoff_month\",month(\"dropoff_date\")).withColumn(\"dropoff_day\",dayofmonth(\"dropoff_date\"))"
   ]
  },
  {
   "cell_type": "code",
   "execution_count": 32,
   "id": "1be2f1af",
   "metadata": {},
   "outputs": [],
   "source": [
    "#seprate time into hour,minute and seconds\n",
    "pick_timeSep=drop_DateSep.withColumn(\"pickup_Hour\",hour(\"pickup_time\")).withColumn(\"pickup_Min\",minute(\"pickup_time\")).withColumn(\"pickup_Sec\",dayofmonth(\"pickup_time\"))\n",
    "drop_timeSep=pick_timeSep.withColumn(\"dropoff_Hour\",hour(\"dropoff_time\")).withColumn(\"dropoff_Min\",minute(\"dropoff_time\")).withColumn(\"dropoff_Sec\",dayofmonth(\"dropoff_time\"))"
   ]
  },
  {
   "cell_type": "code",
   "execution_count": 33,
   "id": "0647d0af",
   "metadata": {},
   "outputs": [
    {
     "data": {
      "text/plain": [
       "300000"
      ]
     },
     "execution_count": 33,
     "metadata": {},
     "output_type": "execute_result"
    }
   ],
   "source": [
    "#drop column\n",
    "df_drop=pick_timeSep.drop(*('tpep_pickup_datetime','tpep_dropoff_datetime','pickup_date','dropoff_date','pickup_time','dropoff_time','pickup_timestamp','dropoff_timestamp',))\n",
    "df_drop.count()"
   ]
  },
  {
   "cell_type": "markdown",
   "id": "5a4b3075",
   "metadata": {},
   "source": [
    "CONNECT TO AND DUMP CLEANED DATA INTO MONGODB\n",
    "\n",
    "\n",
    "\n",
    "\n",
    "\n",
    "\n"
   ]
  },
  {
   "cell_type": "code",
   "execution_count": 37,
   "id": "14af1224",
   "metadata": {},
   "outputs": [],
   "source": [
    "ml1 = spark.read.format(\"mongo\").option(\"uri\",\"mongodb://localhost:27017/NewYorkTaxi.Taxi_ml\").load()\n",
    "df_drop.write.format(\"mongo\").option(\"uri\",\"mongodb://localhost:27017/NewYorkTaxi.Taxi_ml\").save() "
   ]
  },
  {
   "cell_type": "markdown",
   "id": "509c5c1d",
   "metadata": {},
   "source": [
    "Import Data from Mongodb"
   ]
  },
  {
   "cell_type": "code",
   "execution_count": null,
   "id": "9da38b1d",
   "metadata": {},
   "outputs": [],
   "source": [
    "#import pandas as pd\n",
    "#import numpy as np\n",
    "#import seaborn as sns\n",
    "#import matplotlib.pyplot as plt\n",
    "#import pymongo\n",
    "#from pymongo import MongoClient\n",
    "#from sklearn.model_selection import train_test_split\n",
    "#from sklearn.ensemble import RandomForestClassifier\n",
    "#from sklearn.metrics import accuracy_score"
   ]
  },
  {
   "cell_type": "code",
   "execution_count": 39,
   "id": "8105c4c5",
   "metadata": {},
   "outputs": [],
   "source": [
    "import findspark \n",
    "from pymongo import MongoClient\n",
    "import pandas as pd "
   ]
  },
  {
   "cell_type": "code",
   "execution_count": 42,
   "id": "0529bbaf",
   "metadata": {},
   "outputs": [],
   "source": [
    "client = MongoClient('localhost',27017)\n",
    "db = client.NewYorkTaxi\n",
    "data = db.Taxi_ml\n",
    "df = pd.DataFrame(list(data.find().limit(500000)))\n",
    "df_final = df.drop('_id',axis=1)"
   ]
  },
  {
   "cell_type": "code",
   "execution_count": 43,
   "id": "a5886467",
   "metadata": {},
   "outputs": [
    {
     "data": {
      "text/html": [
       "<div>\n",
       "<style scoped>\n",
       "    .dataframe tbody tr th:only-of-type {\n",
       "        vertical-align: middle;\n",
       "    }\n",
       "\n",
       "    .dataframe tbody tr th {\n",
       "        vertical-align: top;\n",
       "    }\n",
       "\n",
       "    .dataframe thead th {\n",
       "        text-align: right;\n",
       "    }\n",
       "</style>\n",
       "<table border=\"1\" class=\"dataframe\">\n",
       "  <thead>\n",
       "    <tr style=\"text-align: right;\">\n",
       "      <th></th>\n",
       "      <th>No</th>\n",
       "      <th>passenger_count</th>\n",
       "      <th>VendorID</th>\n",
       "      <th>trip_distance</th>\n",
       "      <th>PULocationID6</th>\n",
       "      <th>DOLocationID</th>\n",
       "      <th>payment_type</th>\n",
       "      <th>fare_amount</th>\n",
       "      <th>tip_amount</th>\n",
       "      <th>tolls_amount</th>\n",
       "      <th>...</th>\n",
       "      <th>trip_duration</th>\n",
       "      <th>tip_percent</th>\n",
       "      <th>calculated_total_amount</th>\n",
       "      <th>TAVG</th>\n",
       "      <th>PUborough</th>\n",
       "      <th>DOborough</th>\n",
       "      <th>PULocationID29</th>\n",
       "      <th>Borough</th>\n",
       "      <th>Zone</th>\n",
       "      <th>service_zone</th>\n",
       "    </tr>\n",
       "  </thead>\n",
       "  <tbody>\n",
       "    <tr>\n",
       "      <th>0</th>\n",
       "      <td>0</td>\n",
       "      <td>1</td>\n",
       "      <td>2</td>\n",
       "      <td>0.73</td>\n",
       "      <td>163</td>\n",
       "      <td>161</td>\n",
       "      <td>2</td>\n",
       "      <td>4.5</td>\n",
       "      <td>0</td>\n",
       "      <td>0</td>\n",
       "      <td>...</td>\n",
       "      <td>152</td>\n",
       "      <td>0</td>\n",
       "      <td>5.8</td>\n",
       "      <td>5.15</td>\n",
       "      <td>Manhattan</td>\n",
       "      <td>Manhattan</td>\n",
       "      <td>1</td>\n",
       "      <td>EWR</td>\n",
       "      <td>Newark Airport</td>\n",
       "      <td>EWR</td>\n",
       "    </tr>\n",
       "    <tr>\n",
       "      <th>1</th>\n",
       "      <td>1</td>\n",
       "      <td>1</td>\n",
       "      <td>1</td>\n",
       "      <td>1.1</td>\n",
       "      <td>163</td>\n",
       "      <td>161</td>\n",
       "      <td>1</td>\n",
       "      <td>5.5</td>\n",
       "      <td>2.3</td>\n",
       "      <td>0</td>\n",
       "      <td>...</td>\n",
       "      <td>67</td>\n",
       "      <td>19.82758621</td>\n",
       "      <td>6.26</td>\n",
       "      <td>5.15</td>\n",
       "      <td>Manhattan</td>\n",
       "      <td>Manhattan</td>\n",
       "      <td>2</td>\n",
       "      <td>Queens</td>\n",
       "      <td>Jamaica Bay</td>\n",
       "      <td>Boro Zone</td>\n",
       "    </tr>\n",
       "    <tr>\n",
       "      <th>2</th>\n",
       "      <td>2</td>\n",
       "      <td>5</td>\n",
       "      <td>2</td>\n",
       "      <td>0.64</td>\n",
       "      <td>163</td>\n",
       "      <td>161</td>\n",
       "      <td>1</td>\n",
       "      <td>4</td>\n",
       "      <td>2.19</td>\n",
       "      <td>0</td>\n",
       "      <td>...</td>\n",
       "      <td>137</td>\n",
       "      <td>23.07692308</td>\n",
       "      <td>6.26</td>\n",
       "      <td>5.15</td>\n",
       "      <td>Manhattan</td>\n",
       "      <td>Manhattan</td>\n",
       "      <td>3</td>\n",
       "      <td>Bronx</td>\n",
       "      <td>Allerton/Pelham Gardens</td>\n",
       "      <td>Boro Zone</td>\n",
       "    </tr>\n",
       "    <tr>\n",
       "      <th>3</th>\n",
       "      <td>3</td>\n",
       "      <td>6</td>\n",
       "      <td>2</td>\n",
       "      <td>0.25</td>\n",
       "      <td>163</td>\n",
       "      <td>161</td>\n",
       "      <td>2</td>\n",
       "      <td>5.5</td>\n",
       "      <td>0</td>\n",
       "      <td>0</td>\n",
       "      <td>...</td>\n",
       "      <td>145</td>\n",
       "      <td>0</td>\n",
       "      <td>8.75</td>\n",
       "      <td>5.15</td>\n",
       "      <td>Manhattan</td>\n",
       "      <td>Manhattan</td>\n",
       "      <td>4</td>\n",
       "      <td>Manhattan</td>\n",
       "      <td>Alphabet City</td>\n",
       "      <td>Yellow Zone</td>\n",
       "    </tr>\n",
       "    <tr>\n",
       "      <th>4</th>\n",
       "      <td>4</td>\n",
       "      <td>6</td>\n",
       "      <td>2</td>\n",
       "      <td>0.4</td>\n",
       "      <td>163</td>\n",
       "      <td>161</td>\n",
       "      <td>1</td>\n",
       "      <td>4.5</td>\n",
       "      <td>1.2</td>\n",
       "      <td>0</td>\n",
       "      <td>...</td>\n",
       "      <td>173</td>\n",
       "      <td>13.33333333</td>\n",
       "      <td>9.3</td>\n",
       "      <td>5.15</td>\n",
       "      <td>Manhattan</td>\n",
       "      <td>Manhattan</td>\n",
       "      <td>5</td>\n",
       "      <td>Staten Island</td>\n",
       "      <td>Arden Heights</td>\n",
       "      <td>Boro Zone</td>\n",
       "    </tr>\n",
       "    <tr>\n",
       "      <th>...</th>\n",
       "      <td>...</td>\n",
       "      <td>...</td>\n",
       "      <td>...</td>\n",
       "      <td>...</td>\n",
       "      <td>...</td>\n",
       "      <td>...</td>\n",
       "      <td>...</td>\n",
       "      <td>...</td>\n",
       "      <td>...</td>\n",
       "      <td>...</td>\n",
       "      <td>...</td>\n",
       "      <td>...</td>\n",
       "      <td>...</td>\n",
       "      <td>...</td>\n",
       "      <td>...</td>\n",
       "      <td>...</td>\n",
       "      <td>...</td>\n",
       "      <td>...</td>\n",
       "      <td>...</td>\n",
       "      <td>...</td>\n",
       "      <td>...</td>\n",
       "    </tr>\n",
       "    <tr>\n",
       "      <th>299995</th>\n",
       "      <td>NaN</td>\n",
       "      <td>1</td>\n",
       "      <td>1</td>\n",
       "      <td>NaN</td>\n",
       "      <td>NaN</td>\n",
       "      <td>NaN</td>\n",
       "      <td>NaN</td>\n",
       "      <td>NaN</td>\n",
       "      <td>NaN</td>\n",
       "      <td>NaN</td>\n",
       "      <td>...</td>\n",
       "      <td>NaN</td>\n",
       "      <td>NaN</td>\n",
       "      <td>NaN</td>\n",
       "      <td>NaN</td>\n",
       "      <td>NaN</td>\n",
       "      <td>NaN</td>\n",
       "      <td>NaN</td>\n",
       "      <td>NaN</td>\n",
       "      <td>NaN</td>\n",
       "      <td>NaN</td>\n",
       "    </tr>\n",
       "    <tr>\n",
       "      <th>299996</th>\n",
       "      <td>NaN</td>\n",
       "      <td>2</td>\n",
       "      <td>2</td>\n",
       "      <td>NaN</td>\n",
       "      <td>NaN</td>\n",
       "      <td>NaN</td>\n",
       "      <td>NaN</td>\n",
       "      <td>NaN</td>\n",
       "      <td>NaN</td>\n",
       "      <td>NaN</td>\n",
       "      <td>...</td>\n",
       "      <td>NaN</td>\n",
       "      <td>NaN</td>\n",
       "      <td>NaN</td>\n",
       "      <td>NaN</td>\n",
       "      <td>NaN</td>\n",
       "      <td>NaN</td>\n",
       "      <td>NaN</td>\n",
       "      <td>NaN</td>\n",
       "      <td>NaN</td>\n",
       "      <td>NaN</td>\n",
       "    </tr>\n",
       "    <tr>\n",
       "      <th>299997</th>\n",
       "      <td>NaN</td>\n",
       "      <td>1</td>\n",
       "      <td>2</td>\n",
       "      <td>NaN</td>\n",
       "      <td>NaN</td>\n",
       "      <td>NaN</td>\n",
       "      <td>NaN</td>\n",
       "      <td>NaN</td>\n",
       "      <td>NaN</td>\n",
       "      <td>NaN</td>\n",
       "      <td>...</td>\n",
       "      <td>NaN</td>\n",
       "      <td>NaN</td>\n",
       "      <td>NaN</td>\n",
       "      <td>NaN</td>\n",
       "      <td>NaN</td>\n",
       "      <td>NaN</td>\n",
       "      <td>NaN</td>\n",
       "      <td>NaN</td>\n",
       "      <td>NaN</td>\n",
       "      <td>NaN</td>\n",
       "    </tr>\n",
       "    <tr>\n",
       "      <th>299998</th>\n",
       "      <td>NaN</td>\n",
       "      <td>1</td>\n",
       "      <td>2</td>\n",
       "      <td>NaN</td>\n",
       "      <td>NaN</td>\n",
       "      <td>NaN</td>\n",
       "      <td>NaN</td>\n",
       "      <td>NaN</td>\n",
       "      <td>NaN</td>\n",
       "      <td>NaN</td>\n",
       "      <td>...</td>\n",
       "      <td>NaN</td>\n",
       "      <td>NaN</td>\n",
       "      <td>NaN</td>\n",
       "      <td>NaN</td>\n",
       "      <td>NaN</td>\n",
       "      <td>NaN</td>\n",
       "      <td>NaN</td>\n",
       "      <td>NaN</td>\n",
       "      <td>NaN</td>\n",
       "      <td>NaN</td>\n",
       "    </tr>\n",
       "    <tr>\n",
       "      <th>299999</th>\n",
       "      <td>NaN</td>\n",
       "      <td>4</td>\n",
       "      <td>2</td>\n",
       "      <td>NaN</td>\n",
       "      <td>NaN</td>\n",
       "      <td>NaN</td>\n",
       "      <td>NaN</td>\n",
       "      <td>NaN</td>\n",
       "      <td>NaN</td>\n",
       "      <td>NaN</td>\n",
       "      <td>...</td>\n",
       "      <td>NaN</td>\n",
       "      <td>NaN</td>\n",
       "      <td>NaN</td>\n",
       "      <td>NaN</td>\n",
       "      <td>NaN</td>\n",
       "      <td>NaN</td>\n",
       "      <td>NaN</td>\n",
       "      <td>NaN</td>\n",
       "      <td>NaN</td>\n",
       "      <td>NaN</td>\n",
       "    </tr>\n",
       "  </tbody>\n",
       "</table>\n",
       "<p>300000 rows × 26 columns</p>\n",
       "</div>"
      ],
      "text/plain": [
       "         No passenger_count VendorID trip_distance PULocationID6 DOLocationID  \\\n",
       "0         0               1        2          0.73           163          161   \n",
       "1         1               1        1           1.1           163          161   \n",
       "2         2               5        2          0.64           163          161   \n",
       "3         3               6        2          0.25           163          161   \n",
       "4         4               6        2           0.4           163          161   \n",
       "...     ...             ...      ...           ...           ...          ...   \n",
       "299995  NaN               1        1           NaN           NaN          NaN   \n",
       "299996  NaN               2        2           NaN           NaN          NaN   \n",
       "299997  NaN               1        2           NaN           NaN          NaN   \n",
       "299998  NaN               1        2           NaN           NaN          NaN   \n",
       "299999  NaN               4        2           NaN           NaN          NaN   \n",
       "\n",
       "       payment_type fare_amount tip_amount tolls_amount  ... trip_duration  \\\n",
       "0                 2         4.5          0            0  ...           152   \n",
       "1                 1         5.5        2.3            0  ...            67   \n",
       "2                 1           4       2.19            0  ...           137   \n",
       "3                 2         5.5          0            0  ...           145   \n",
       "4                 1         4.5        1.2            0  ...           173   \n",
       "...             ...         ...        ...          ...  ...           ...   \n",
       "299995          NaN         NaN        NaN          NaN  ...           NaN   \n",
       "299996          NaN         NaN        NaN          NaN  ...           NaN   \n",
       "299997          NaN         NaN        NaN          NaN  ...           NaN   \n",
       "299998          NaN         NaN        NaN          NaN  ...           NaN   \n",
       "299999          NaN         NaN        NaN          NaN  ...           NaN   \n",
       "\n",
       "        tip_percent calculated_total_amount  TAVG  PUborough  DOborough  \\\n",
       "0                 0                     5.8  5.15  Manhattan  Manhattan   \n",
       "1       19.82758621                    6.26  5.15  Manhattan  Manhattan   \n",
       "2       23.07692308                    6.26  5.15  Manhattan  Manhattan   \n",
       "3                 0                    8.75  5.15  Manhattan  Manhattan   \n",
       "4       13.33333333                     9.3  5.15  Manhattan  Manhattan   \n",
       "...             ...                     ...   ...        ...        ...   \n",
       "299995          NaN                     NaN   NaN        NaN        NaN   \n",
       "299996          NaN                     NaN   NaN        NaN        NaN   \n",
       "299997          NaN                     NaN   NaN        NaN        NaN   \n",
       "299998          NaN                     NaN   NaN        NaN        NaN   \n",
       "299999          NaN                     NaN   NaN        NaN        NaN   \n",
       "\n",
       "       PULocationID29        Borough                     Zone service_zone  \n",
       "0                   1            EWR           Newark Airport          EWR  \n",
       "1                   2         Queens              Jamaica Bay    Boro Zone  \n",
       "2                   3          Bronx  Allerton/Pelham Gardens    Boro Zone  \n",
       "3                   4      Manhattan            Alphabet City  Yellow Zone  \n",
       "4                   5  Staten Island            Arden Heights    Boro Zone  \n",
       "...               ...            ...                      ...          ...  \n",
       "299995            NaN            NaN                      NaN          NaN  \n",
       "299996            NaN            NaN                      NaN          NaN  \n",
       "299997            NaN            NaN                      NaN          NaN  \n",
       "299998            NaN            NaN                      NaN          NaN  \n",
       "299999            NaN            NaN                      NaN          NaN  \n",
       "\n",
       "[300000 rows x 26 columns]"
      ]
     },
     "execution_count": 43,
     "metadata": {},
     "output_type": "execute_result"
    }
   ],
   "source": [
    "df_final"
   ]
  }
 ],
 "metadata": {
  "kernelspec": {
   "display_name": "Python 3 (ipykernel)",
   "language": "python",
   "name": "python3"
  },
  "language_info": {
   "codemirror_mode": {
    "name": "ipython",
    "version": 3
   },
   "file_extension": ".py",
   "mimetype": "text/x-python",
   "name": "python",
   "nbconvert_exporter": "python",
   "pygments_lexer": "ipython3",
   "version": "3.9.12"
  }
 },
 "nbformat": 4,
 "nbformat_minor": 5
}
